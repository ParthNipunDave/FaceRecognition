{
 "cells": [
  {
   "cell_type": "code",
   "execution_count": 1,
   "metadata": {},
   "outputs": [],
   "source": [
    "import cv2\n",
    "import pandas as pd\n",
    "import numpy as np\n",
    "from PIL import Image\n",
    "import os\n",
    "from keras.preprocessing.image import ImageDataGenerator,array_to_img,img_to_array,load_img"
   ]
  },
  {
   "cell_type": "code",
   "execution_count": 2,
   "metadata": {},
   "outputs": [],
   "source": [
    "facecascade = cv2.CascadeClassifier('haarcascade_frontalface_default.xml')"
   ]
  },
  {
   "cell_type": "code",
   "execution_count": 3,
   "metadata": {},
   "outputs": [],
   "source": [
    "cap = cv2.VideoCapture(0)"
   ]
  },
  {
   "cell_type": "code",
   "execution_count": 4,
   "metadata": {},
   "outputs": [
    {
     "name": "stdout",
     "output_type": "stream",
     "text": [
      "True\n"
     ]
    }
   ],
   "source": [
    "test = facecascade.load('haarcascade_frontalface_default.xml')\n",
    "print(test)"
   ]
  },
  {
   "cell_type": "code",
   "execution_count": 5,
   "metadata": {},
   "outputs": [],
   "source": [
    "name = os.listdir('Images/Training/')"
   ]
  },
  {
   "cell_type": "code",
   "execution_count": 6,
   "metadata": {},
   "outputs": [],
   "source": [
    "from keras.models import model_from_json"
   ]
  },
  {
   "cell_type": "code",
   "execution_count": 7,
   "metadata": {},
   "outputs": [],
   "source": [
    "json_file = open('faceRecognition.json', 'r')\n",
    "loaded_model_json = json_file.read()\n",
    "json_file.close()\n",
    "loaded_model = model_from_json(loaded_model_json)\n",
    "# load weights into new model\n",
    "loaded_model.load_weights('faceRecognition.h5')"
   ]
  },
  {
   "cell_type": "code",
   "execution_count": 8,
   "metadata": {
    "scrolled": true
   },
   "outputs": [
    {
     "name": "stdout",
     "output_type": "stream",
     "text": [
      "Found 1 images belonging to 1 classes.\n",
      "Found 1 images belonging to 1 classes.\n",
      "Found 1 images belonging to 1 classes.\n",
      "Found 1 images belonging to 1 classes.\n",
      "Found 1 images belonging to 1 classes.\n",
      "Found 1 images belonging to 1 classes.\n",
      "Found 1 images belonging to 1 classes.\n",
      "Found 1 images belonging to 1 classes.\n",
      "Found 1 images belonging to 1 classes.\n",
      "Found 1 images belonging to 1 classes.\n",
      "Found 1 images belonging to 1 classes.\n",
      "Found 1 images belonging to 1 classes.\n",
      "Found 1 images belonging to 1 classes.\n",
      "Found 1 images belonging to 1 classes.\n",
      "Found 1 images belonging to 1 classes.\n",
      "Found 1 images belonging to 1 classes.\n",
      "Found 1 images belonging to 1 classes.\n",
      "Found 1 images belonging to 1 classes.\n",
      "\n"
     ]
    }
   ],
   "source": [
    "cap = cv2.VideoCapture(0)\n",
    "i=0\n",
    "while True:\n",
    "    i=i+1\n",
    "    rect,img = cap.read()\n",
    "    img1=img\n",
    "    gray=cv2.cvtColor(img,cv2.COLOR_BGR2GRAY)\n",
    "    image = gray\n",
    "    image=Image.fromarray(image)\n",
    "    image.save('Images/Predicting/Image/test.jpg')\n",
    "    test_data  =ImageDataGenerator(rescale=1./255)\n",
    "    faces = facecascade.detectMultiScale(gray,1.3,5)\n",
    "    for (x,y,w,h) in faces:\n",
    "        cv2.rectangle(img,(x,y),(x+w,y+h),(200,254,235),2)\n",
    "        roi_gray=gray[y:y+h,x:x+w]\n",
    "        roi_color = img[y:y+h,x:x+w]\n",
    "        test_gen = test_data.flow_from_directory('Images/Predicting/',target_size=(200,200),color_mode='grayscale')\n",
    "        label=loaded_model.predict(test_gen)\n",
    "        score = label.max()\n",
    "        label = label.argmax()\n",
    "        out = name[label]\n",
    "        cv2.putText(img,out,(x,y),cv2.FONT_HERSHEY_SIMPLEX,1,(0,0,0),2,cv2.LINE_AA)\n",
    "        im=Image.fromarray(img)\n",
    "        im.save('Images/Predicting/test.jpg')\n",
    "        im.save('Output.jpg')\n",
    "        cv2.imshow('FaceRec',img)\n",
    "    k = cv2.waitKey(100) \n",
    "    if i == 20: \n",
    "        break\n",
    "cap.release() \n",
    "cv2.destroyAllWindows() \n",
    "print('')"
   ]
  },
  {
   "cell_type": "code",
   "execution_count": null,
   "metadata": {},
   "outputs": [],
   "source": []
  },
  {
   "cell_type": "code",
   "execution_count": null,
   "metadata": {},
   "outputs": [],
   "source": []
  }
 ],
 "metadata": {
  "kernelspec": {
   "display_name": "Python 3",
   "language": "python",
   "name": "python3"
  },
  "language_info": {
   "codemirror_mode": {
    "name": "ipython",
    "version": 3
   },
   "file_extension": ".py",
   "mimetype": "text/x-python",
   "name": "python",
   "nbconvert_exporter": "python",
   "pygments_lexer": "ipython3",
   "version": "3.6.10"
  }
 },
 "nbformat": 4,
 "nbformat_minor": 2
}
