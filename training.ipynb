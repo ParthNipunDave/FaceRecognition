{
 "cells": [
  {
   "cell_type": "code",
   "execution_count": 2,
   "metadata": {
    "id": "2vAUVj6TMCHJ"
   },
   "outputs": [],
   "source": [
    "import pandas as pd\n",
    "import os,glob"
   ]
  },
  {
   "cell_type": "code",
   "execution_count": 3,
   "metadata": {
    "id": "q0u518gqMCHV"
   },
   "outputs": [],
   "source": [
    "path = 'Images/Training/'"
   ]
  },
  {
   "cell_type": "code",
   "execution_count": 5,
   "metadata": {
    "id": "4UG6KtajMCHa"
   },
   "outputs": [],
   "source": [
    "from keras.preprocessing.image import ImageDataGenerator,array_to_img,img_to_array,load_img"
   ]
  },
  {
   "cell_type": "code",
   "execution_count": 6,
   "metadata": {
    "id": "l58BQ1jjMCHa"
   },
   "outputs": [],
   "source": [
    "from keras.models import Sequential\n",
    "from keras.layers import Dense,Activation,Conv2D,MaxPooling2D,Dropout,Flatten\n"
   ]
  },
  {
   "cell_type": "code",
   "execution_count": 7,
   "metadata": {
    "id": "QKB9527gMCHb"
   },
   "outputs": [],
   "source": [
    "out_layer = len(os.listdir('Images/Training/'))"
   ]
  },
  {
   "cell_type": "code",
   "execution_count": 8,
   "metadata": {
    "colab": {
     "base_uri": "https://localhost:8080/"
    },
    "id": "zsKE4EtgMCHb",
    "outputId": "c161d154-98b6-4d59-933e-4b6e1c121d23"
   },
   "outputs": [
    {
     "data": {
      "text/plain": [
       "4"
      ]
     },
     "execution_count": 8,
     "metadata": {
      "tags": []
     },
     "output_type": "execute_result"
    }
   ],
   "source": [
    "out_layer"
   ]
  },
  {
   "cell_type": "code",
   "execution_count": 18,
   "metadata": {
    "colab": {
     "base_uri": "https://localhost:8080/"
    },
    "id": "3hXat3mAMCHe",
    "outputId": "236549d5-9f1c-4f46-fa0b-97a8a1465044",
    "scrolled": true
   },
   "outputs": [
    {
     "name": "stdout",
     "output_type": "stream",
     "text": [
      "Model: \"sequential_1\"\n",
      "_________________________________________________________________\n",
      "Layer (type)                 Output Shape              Param #   \n",
      "=================================================================\n",
      "conv2d_3 (Conv2D)            (None, 198, 198, 256)     2560      \n",
      "_________________________________________________________________\n",
      "activation_3 (Activation)    (None, 198, 198, 256)     0         \n",
      "_________________________________________________________________\n",
      "max_pooling2d_3 (MaxPooling2 (None, 66, 66, 256)       0         \n",
      "_________________________________________________________________\n",
      "conv2d_4 (Conv2D)            (None, 64, 64, 256)       590080    \n",
      "_________________________________________________________________\n",
      "activation_4 (Activation)    (None, 64, 64, 256)       0         \n",
      "_________________________________________________________________\n",
      "dropout_2 (Dropout)          (None, 64, 64, 256)       0         \n",
      "_________________________________________________________________\n",
      "max_pooling2d_4 (MaxPooling2 (None, 21, 21, 256)       0         \n",
      "_________________________________________________________________\n",
      "conv2d_5 (Conv2D)            (None, 19, 19, 512)       1180160   \n",
      "_________________________________________________________________\n",
      "activation_5 (Activation)    (None, 19, 19, 512)       0         \n",
      "_________________________________________________________________\n",
      "dropout_3 (Dropout)          (None, 19, 19, 512)       0         \n",
      "_________________________________________________________________\n",
      "max_pooling2d_5 (MaxPooling2 (None, 6, 6, 512)         0         \n",
      "_________________________________________________________________\n",
      "flatten_1 (Flatten)          (None, 18432)             0         \n",
      "_________________________________________________________________\n",
      "dense_2 (Dense)              (None, 512)               9437696   \n",
      "_________________________________________________________________\n",
      "dense_3 (Dense)              (None, 4)                 2052      \n",
      "=================================================================\n",
      "Total params: 11,212,548\n",
      "Trainable params: 11,212,548\n",
      "Non-trainable params: 0\n",
      "_________________________________________________________________\n"
     ]
    }
   ],
   "source": [
    "model = Sequential()\n",
    "model.add(Conv2D(256,input_shape=(200,200,1),kernel_size=(3,3)))\n",
    "model.add(Activation('relu'))\n",
    "model.add(MaxPooling2D(pool_size=(3,3)))\n",
    "model.add(Conv2D(256,kernel_size=(3,3)))\n",
    "model.add(Activation('relu'))\n",
    "model.add(Dropout(0.6))\n",
    "model.add(MaxPooling2D(pool_size=(3,3)))\n",
    "model.add(Conv2D(512,kernel_size=(3,3)))\n",
    "model.add(Activation('relu'))\n",
    "model.add(Dropout(0.6))\n",
    "model.add(MaxPooling2D(pool_size=(3,3)))\n",
    "model.add(Flatten())\n",
    "model.add(Dense(512,activation='relu'))\n",
    "model.add(Dense(out_layer,activation='softmax'))\n",
    "model.compile(loss='categorical_crossentropy',optimizer='rmsprop',metrics=['acc'])\n",
    "model.summary()"
   ]
  },
  {
   "cell_type": "code",
   "execution_count": 10,
   "metadata": {
    "id": "zY3ESIYKMCHf"
   },
   "outputs": [],
   "source": [
    "train_data = ImageDataGenerator(rescale=1./255)\n",
    "test_data  =ImageDataGenerator(rescale=1./255)"
   ]
  },
  {
   "cell_type": "code",
   "execution_count": 15,
   "metadata": {
    "colab": {
     "base_uri": "https://localhost:8080/"
    },
    "id": "pD3R0fRWMCHf",
    "outputId": "4387a6a9-fc45-40b9-c82d-9334487c0876"
   },
   "outputs": [
    {
     "name": "stdout",
     "output_type": "stream",
     "text": [
      "Found 184 images belonging to 4 classes.\n"
     ]
    }
   ],
   "source": [
    "train_gen =  train_data.flow_from_directory('Images/Training/',target_size=(200,200),color_mode='grayscale',batch_size=1)"
   ]
  },
  {
   "cell_type": "code",
   "execution_count": 19,
   "metadata": {
    "colab": {
     "base_uri": "https://localhost:8080/"
    },
    "id": "CIknNFEYMCHh",
    "outputId": "a6ef79cc-9647-4d25-e7cf-277b667de667",
    "scrolled": true
   },
   "outputs": [
    {
     "name": "stderr",
     "output_type": "stream",
     "text": [
      "/usr/local/lib/python3.6/dist-packages/tensorflow/python/keras/engine/training.py:1844: UserWarning: `Model.fit_generator` is deprecated and will be removed in a future version. Please use `Model.fit`, which supports generators.\n",
      "  warnings.warn('`Model.fit_generator` is deprecated and '\n"
     ]
    },
    {
     "name": "stdout",
     "output_type": "stream",
     "text": [
      "Epoch 1/25\n",
      "184/184 [==============================] - 3s 14ms/step - loss: 9.9615 - acc: 0.3401\n",
      "Epoch 2/25\n",
      "184/184 [==============================] - 3s 14ms/step - loss: 0.8868 - acc: 0.6982\n",
      "Epoch 3/25\n",
      "184/184 [==============================] - 3s 14ms/step - loss: 0.6942 - acc: 0.6987\n",
      "Epoch 4/25\n",
      "184/184 [==============================] - 3s 14ms/step - loss: 0.7671 - acc: 0.7591\n",
      "Epoch 5/25\n",
      "184/184 [==============================] - 3s 14ms/step - loss: 0.7016 - acc: 0.7513\n",
      "Epoch 6/25\n",
      "184/184 [==============================] - 3s 14ms/step - loss: 0.5091 - acc: 0.8134\n",
      "Epoch 7/25\n",
      "184/184 [==============================] - 3s 14ms/step - loss: 0.6676 - acc: 0.8295\n",
      "Epoch 8/25\n",
      "184/184 [==============================] - 3s 14ms/step - loss: 0.4294 - acc: 0.8767\n",
      "Epoch 9/25\n",
      "184/184 [==============================] - 3s 14ms/step - loss: 0.3388 - acc: 0.8893\n",
      "Epoch 10/25\n",
      "184/184 [==============================] - 3s 14ms/step - loss: 0.2506 - acc: 0.9100\n",
      "Epoch 11/25\n",
      "184/184 [==============================] - 3s 14ms/step - loss: 0.1836 - acc: 0.9547\n",
      "Epoch 12/25\n",
      "184/184 [==============================] - 3s 14ms/step - loss: 0.1727 - acc: 0.9462\n",
      "Epoch 13/25\n",
      "184/184 [==============================] - 3s 14ms/step - loss: 0.4050 - acc: 0.9359\n",
      "Epoch 14/25\n",
      "184/184 [==============================] - 3s 14ms/step - loss: 0.2682 - acc: 0.9211\n",
      "Epoch 15/25\n",
      "184/184 [==============================] - 3s 14ms/step - loss: 0.1196 - acc: 0.9875\n",
      "Epoch 16/25\n",
      "184/184 [==============================] - 3s 14ms/step - loss: 0.2805 - acc: 0.9624\n",
      "Epoch 17/25\n",
      "184/184 [==============================] - 3s 14ms/step - loss: 0.0833 - acc: 0.9905\n",
      "Epoch 18/25\n",
      "184/184 [==============================] - 3s 14ms/step - loss: 0.1187 - acc: 0.9877\n",
      "Epoch 19/25\n",
      "184/184 [==============================] - 3s 14ms/step - loss: 0.5148 - acc: 0.9573\n",
      "Epoch 20/25\n",
      "184/184 [==============================] - 3s 14ms/step - loss: 0.1782 - acc: 0.9664\n",
      "Epoch 21/25\n",
      "184/184 [==============================] - 3s 14ms/step - loss: 0.2043 - acc: 0.9822\n",
      "Epoch 22/25\n",
      "184/184 [==============================] - 3s 14ms/step - loss: 0.3040 - acc: 0.9546\n",
      "Epoch 23/25\n",
      "184/184 [==============================] - 3s 14ms/step - loss: 0.0136 - acc: 0.9881\n",
      "Epoch 24/25\n",
      "184/184 [==============================] - 3s 14ms/step - loss: 1.0103 - acc: 0.9655\n",
      "Epoch 25/25\n",
      "184/184 [==============================] - 3s 14ms/step - loss: 0.0097 - acc: 0.9943\n"
     ]
    }
   ],
   "source": [
    "hist = model.fit_generator(train_gen,steps_per_epoch=train_gen.n,epochs=25,verbose=1)"
   ]
  },
  {
   "cell_type": "code",
   "execution_count": 14,
   "metadata": {
    "colab": {
     "base_uri": "https://localhost:8080/"
    },
    "id": "ibCXaneVPl9C",
    "outputId": "43a0f811-659b-4363-d778-07dc9c35389d"
   },
   "outputs": [
    {
     "data": {
      "text/plain": [
       "184"
      ]
     },
     "execution_count": 14,
     "metadata": {
      "tags": []
     },
     "output_type": "execute_result"
    }
   ],
   "source": [
    "train_gen.n"
   ]
  },
  {
   "cell_type": "code",
   "execution_count": 21,
   "metadata": {
    "id": "2fWq9sqfMCHh"
   },
   "outputs": [],
   "source": [
    "from keras.models import model_from_json"
   ]
  },
  {
   "cell_type": "code",
   "execution_count": 20,
   "metadata": {
    "colab": {
     "base_uri": "https://localhost:8080/"
    },
    "id": "qaGY9uX-MCHi",
    "outputId": "c24dc882-9bec-456e-8057-9f635de4ab8a"
   },
   "outputs": [
    {
     "name": "stdout",
     "output_type": "stream",
     "text": [
      "Saved model to disk\n"
     ]
    }
   ],
   "source": [
    "model_json = model.to_json()\n",
    "with open(\"/faceRecognition.json\", \"w\") as json_file:\n",
    "    json_file.write(model_json)\n",
    "# serialize weights to HDF5\n",
    "model.save_weights(\"faceRecognition.h5\")\n",
    "print(\"Saved model to disk\")"
   ]
  },
  {
   "cell_type": "code",
   "execution_count": null,
   "metadata": {
    "id": "pbcfh8idMCHq"
   },
   "outputs": [],
   "source": []
  }
 ],
 "metadata": {
  "accelerator": "GPU",
  "colab": {
   "collapsed_sections": [],
   "name": "Face CNN.ipynb",
   "provenance": []
  },
  "kernelspec": {
   "display_name": "Python 3",
   "language": "python",
   "name": "python3"
  },
  "language_info": {
   "codemirror_mode": {
    "name": "ipython",
    "version": 3
   },
   "file_extension": ".py",
   "mimetype": "text/x-python",
   "name": "python",
   "nbconvert_exporter": "python",
   "pygments_lexer": "ipython3",
   "version": "3.6.10"
  }
 },
 "nbformat": 4,
 "nbformat_minor": 1
}
